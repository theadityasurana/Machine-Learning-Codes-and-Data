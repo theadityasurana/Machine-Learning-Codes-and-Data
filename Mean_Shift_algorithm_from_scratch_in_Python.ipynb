{
  "nbformat": 4,
  "nbformat_minor": 0,
  "metadata": {
    "colab": {
      "provenance": []
    },
    "kernelspec": {
      "name": "python3",
      "display_name": "Python 3"
    },
    "language_info": {
      "name": "python"
    }
  },
  "cells": [
    {
      "cell_type": "code",
      "execution_count": 1,
      "metadata": {
        "colab": {
          "base_uri": "https://localhost:8080/",
          "height": 430
        },
        "id": "nhbCnyb-zqws",
        "outputId": "8e32966c-b0c3-42dc-86f4-511a3ecfc72c"
      },
      "outputs": [
        {
          "output_type": "display_data",
          "data": {
            "text/plain": [
              "<Figure size 640x480 with 1 Axes>"
            ],
            "image/png": "[encoded data removed]"
          },
          "metadata": {}
        }
      ],
      "source": [
        "import matplotlib.pyplot as plt\n",
        "from matplotlib import style\n",
        "style.use('ggplot')\n",
        "import numpy as np\n",
        "\n",
        "X = np.array([[1, 2],\n",
        "              [1.5, 1.8],\n",
        "              [5, 8 ],\n",
        "              [8, 8],\n",
        "              [1, 0.6],\n",
        "              [9,11],\n",
        "              [8,2],\n",
        "              [10,2],\n",
        "              [9,3],])\n",
        "\n",
        "plt.scatter(X[:,0], X[:,1], s=150)\n",
        "plt.show()\n",
        "\n",
        "colors = 10*[\"g\",\"r\",\"c\",\"b\",\"k\"]"
      ]
    },
    {
      "cell_type": "markdown",
      "source": [
        "Just like in the K Means part, this creates obvious groups. With K Means, we even told the machine that we wanted 'k' clusters (2). With Mean Shift, we're expecting that the machine just figures that out on its own, and, for us, we're expecting three groups with the code above.\n",
        "\n",
        "We will begin our Mean Shift class:"
      ],
      "metadata": {
        "id": "eyxzAPN2zzt7"
      }
    },
    {
      "cell_type": "code",
      "source": [
        "class Mean_Shift:\n",
        "    def __init__(self, radius=4):\n",
        "        self.radius = radius"
      ],
      "metadata": {
        "id": "R2UxSnNiz1io"
      },
      "execution_count": 2,
      "outputs": []
    },
    {
      "cell_type": "markdown",
      "source": [
        "We will start with a radius of 4, since we can estimate with our dataset that a radius of four makes sense. That's all we need for now in the initialization method. Moving on to the fit method:"
      ],
      "metadata": {
        "id": "RKkDq04nz39C"
      }
    },
    {
      "cell_type": "code",
      "source": [
        "    def fit(self, data):\n",
        "        centroids = {}\n",
        "\n",
        "        for i in range(len(data)):\n",
        "            centroids[i] = data[i]"
      ],
      "metadata": {
        "id": "2HxyWsQtz6TK"
      },
      "execution_count": 3,
      "outputs": []
    },
    {
      "cell_type": "markdown",
      "source": [
        "Here, we begin with creating starting centroids. Recall the method for Mean Shift is:\n",
        "\n",
        "Make all datapoints centroids\n",
        "Take mean of all featuresets within centroid's radius, setting this mean as new centroid.\n",
        "Repeat step #2 until convergence.\n",
        "So far we have done step 1. Now we need to repeat step 2 until convergence!"
      ],
      "metadata": {
        "id": "Z9L0W59mz9g_"
      }
    },
    {
      "cell_type": "code",
      "source": [
        "        while True:\n",
        "            new_centroids = []\n",
        "            for i in centroids:\n",
        "                in_bandwidth = []\n",
        "                centroid = centroids[i]\n",
        "                for featureset in data:\n",
        "                    if np.linalg.norm(featureset-centroid) < self.radius:\n",
        "                        in_bandwidth.append(featureset)\n",
        "\n",
        "                new_centroid = np.average(in_bandwidth,axis=0)\n",
        "                new_centroids.append(tuple(new_centroid))\n",
        "\n",
        "            uniques = sorted(list(set(new_centroids)))"
      ],
      "metadata": {
        "colab": {
          "base_uri": "https://localhost:8080/",
          "height": 211
        },
        "id": "mv-7UGI7z80f",
        "outputId": "5e781cd3-b9e5-4f35-b74c-4608a0d450ee"
      },
      "execution_count": 4,
      "outputs": [
        {
          "output_type": "error",
          "ename": "NameError",
          "evalue": "name 'centroids' is not defined",
          "traceback": [
            "\u001b[0;31m---------------------------------------------------------------------------\u001b[0m",
            "\u001b[0;31mNameError\u001b[0m                                 Traceback (most recent call last)",
            "\u001b[0;32m<ipython-input-4-6724043ffcd5>\u001b[0m in \u001b[0;36m<cell line: 1>\u001b[0;34m()\u001b[0m\n\u001b[1;32m      1\u001b[0m \u001b[0;32mwhile\u001b[0m \u001b[0;32mTrue\u001b[0m\u001b[0;34m:\u001b[0m\u001b[0;34m\u001b[0m\u001b[0;34m\u001b[0m\u001b[0m\n\u001b[1;32m      2\u001b[0m     \u001b[0mnew_centroids\u001b[0m \u001b[0;34m=\u001b[0m \u001b[0;34m[\u001b[0m\u001b[0;34m]\u001b[0m\u001b[0;34m\u001b[0m\u001b[0;34m\u001b[0m\u001b[0m\n\u001b[0;32m----> 3\u001b[0;31m     \u001b[0;32mfor\u001b[0m \u001b[0mi\u001b[0m \u001b[0;32min\u001b[0m \u001b[0mcentroids\u001b[0m\u001b[0;34m:\u001b[0m\u001b[0;34m\u001b[0m\u001b[0;34m\u001b[0m\u001b[0m\n\u001b[0m\u001b[1;32m      4\u001b[0m         \u001b[0min_bandwidth\u001b[0m \u001b[0;34m=\u001b[0m \u001b[0;34m[\u001b[0m\u001b[0;34m]\u001b[0m\u001b[0;34m\u001b[0m\u001b[0;34m\u001b[0m\u001b[0m\n\u001b[1;32m      5\u001b[0m         \u001b[0mcentroid\u001b[0m \u001b[0;34m=\u001b[0m \u001b[0mcentroids\u001b[0m\u001b[0;34m[\u001b[0m\u001b[0mi\u001b[0m\u001b[0;34m]\u001b[0m\u001b[0;34m\u001b[0m\u001b[0;34m\u001b[0m\u001b[0m\n",
            "\u001b[0;31mNameError\u001b[0m: name 'centroids' is not defined"
          ]
        }
      ]
    },
    {
      "cell_type": "markdown",
      "source": [
        "Here, we begin iterating through each centroid, and finding all featuresets in range. From there, we are taking the average, and setting that average as the \"new centroid.\" Finally, we're creating a uniques variable, which tracks the sorted list of all known centroids. We use set here since there may be duplicates, and duplicate centroids are really just the same centroid.\n",
        "\n",
        "To conclude the fit method:\n",
        "\n"
      ],
      "metadata": {
        "id": "CeQEXMEN0C93"
      }
    },
    {
      "cell_type": "code",
      "source": [
        "import matplotlib.pyplot as plt\n",
        "from matplotlib import style\n",
        "style.use('ggplot')\n",
        "import numpy as np\n",
        "\n",
        "X = np.array([[1, 2],\n",
        "              [1.5, 1.8],\n",
        "              [5, 8 ],\n",
        "              [8, 8],\n",
        "              [1, 0.6],\n",
        "              [9,11],\n",
        "              [8,2],\n",
        "              [10,2],\n",
        "              [9,3],])\n",
        "\n",
        "##plt.scatter(X[:,0], X[:,1], s=150)\n",
        "##plt.show()\n",
        "\n",
        "colors = 10*[\"g\",\"r\",\"c\",\"b\",\"k\"]\n",
        "\n",
        "class Mean_Shift:\n",
        "    def __init__(self, radius=4):\n",
        "        self.radius = radius\n",
        "\n",
        "    def fit(self, data):\n",
        "        centroids = {}\n",
        "\n",
        "        for i in range(len(data)):\n",
        "            centroids[i] = data[i]\n",
        "\n",
        "        while True:\n",
        "            new_centroids = []\n",
        "            for i in centroids:\n",
        "                in_bandwidth = []\n",
        "                centroid = centroids[i]\n",
        "                for featureset in data:\n",
        "                    if np.linalg.norm(featureset-centroid) < self.radius:\n",
        "                        in_bandwidth.append(featureset)\n",
        "\n",
        "                new_centroid = np.average(in_bandwidth,axis=0)\n",
        "                new_centroids.append(tuple(new_centroid))\n",
        "\n",
        "            uniques = sorted(list(set(new_centroids)))\n",
        "\n",
        "            prev_centroids = dict(centroids)\n",
        "\n",
        "            centroids = {}\n",
        "            for i in range(len(uniques)):\n",
        "                centroids[i] = np.array(uniques[i])\n",
        "\n",
        "            optimized = True\n",
        "\n",
        "            for i in centroids:\n",
        "                if not np.array_equal(centroids[i], prev_centroids[i]):\n",
        "                    optimized = False\n",
        "                if not optimized:\n",
        "                    break\n",
        "\n",
        "            if optimized:\n",
        "                break\n",
        "\n",
        "        self.centroids = centroids\n",
        "\n",
        "\n",
        "\n",
        "clf = Mean_Shift()\n",
        "clf.fit(X)\n",
        "\n",
        "centroids = clf.centroids\n",
        "\n",
        "plt.scatter(X[:,0], X[:,1], s=150)\n",
        "\n",
        "for c in centroids:\n",
        "    plt.scatter(centroids[c][0], centroids[c][1], color='k', marker='*', s=150)\n",
        "\n",
        "plt.show()"
      ],
      "metadata": {
        "colab": {
          "base_uri": "https://localhost:8080/",
          "height": 430
        },
        "id": "zx3wNyH80FBQ",
        "outputId": "cd70879e-ee90-4989-e640-c6ca1894afad"
      },
      "execution_count": 9,
      "outputs": [
        {
          "output_type": "display_data",
          "data": {
            "text/plain": [
              "<Figure size 640x480 with 1 Axes>"
            ],
            "image/png": "[encoded data removed]"
          },
          "metadata": {}
        }
      ]
    }
  ]
}